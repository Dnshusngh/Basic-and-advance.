{
 "cells": [
  {
   "cell_type": "code",
   "execution_count": 7,
   "id": "1f849230",
   "metadata": {},
   "outputs": [],
   "source": [
    "s1 = \"hello world dipanshu is a good bo is good good id id that \""
   ]
  },
  {
   "cell_type": "code",
   "execution_count": 11,
   "id": "8396e509",
   "metadata": {},
   "outputs": [
    {
     "data": {
      "text/plain": [
       "5"
      ]
     },
     "execution_count": 11,
     "metadata": {},
     "output_type": "execute_result"
    }
   ],
   "source": [
    "s1.count(\"i\")"
   ]
  },
  {
   "cell_type": "code",
   "execution_count": 13,
   "id": "10257b07",
   "metadata": {},
   "outputs": [
    {
     "data": {
      "text/plain": [
       "4"
      ]
     },
     "execution_count": 13,
     "metadata": {},
     "output_type": "execute_result"
    }
   ],
   "source": [
    "s1.find(\"o\")"
   ]
  },
  {
   "cell_type": "code",
   "execution_count": 14,
   "id": "d0d9fe4e",
   "metadata": {},
   "outputs": [],
   "source": [
    "s1 = \"my name is dipanshu good boy\""
   ]
  },
  {
   "cell_type": "code",
   "execution_count": 15,
   "id": "a2e407e3",
   "metadata": {},
   "outputs": [
    {
     "data": {
      "text/plain": [
       "4"
      ]
     },
     "execution_count": 15,
     "metadata": {},
     "output_type": "execute_result"
    }
   ],
   "source": [
    "s1.find(\"a\")"
   ]
  },
  {
   "cell_type": "code",
   "execution_count": 16,
   "id": "60317a6d",
   "metadata": {},
   "outputs": [],
   "source": [
    "s1 = \"my name is student, mho, ram, syam\""
   ]
  },
  {
   "cell_type": "code",
   "execution_count": 18,
   "id": "9429e5e5",
   "metadata": {},
   "outputs": [
    {
     "data": {
      "text/plain": [
       "['my name is student', ' mho', ' ram', ' syam']"
      ]
     },
     "execution_count": 18,
     "metadata": {},
     "output_type": "execute_result"
    }
   ],
   "source": [
    "s1.split(\",\")"
   ]
  },
  {
   "cell_type": "code",
   "execution_count": null,
   "id": "0ea5a1ac",
   "metadata": {},
   "outputs": [],
   "source": []
  }
 ],
 "metadata": {
  "kernelspec": {
   "display_name": "Python 3 (ipykernel)",
   "language": "python",
   "name": "python3"
  },
  "language_info": {
   "codemirror_mode": {
    "name": "ipython",
    "version": 3
   },
   "file_extension": ".py",
   "mimetype": "text/x-python",
   "name": "python",
   "nbconvert_exporter": "python",
   "pygments_lexer": "ipython3",
   "version": "3.11.4"
  }
 },
 "nbformat": 4,
 "nbformat_minor": 5
}
